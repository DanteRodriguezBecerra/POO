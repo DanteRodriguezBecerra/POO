{
  "nbformat": 4,
  "nbformat_minor": 0,
  "metadata": {
    "colab": {
      "provenance": []
    },
    "kernelspec": {
      "name": "python3",
      "display_name": "Python 3"
    },
    "language_info": {
      "name": "python"
    }
  },
  "cells": [
    {
      "cell_type": "code",
      "execution_count": 8,
      "metadata": {
        "colab": {
          "base_uri": "https://localhost:8080/"
        },
        "id": "pCEI9SLMmsjF",
        "outputId": "611657b3-5a10-4247-c2e4-94ed67a93191"
      },
      "outputs": [
        {
          "output_type": "stream",
          "name": "stdout",
          "text": [
            "Triángulo equilátero con lado de 3\n",
            "Área: 3.8971143170299736\n",
            "Perímetro: 9\n"
          ]
        }
      ],
      "source": [
        "class AreasPerimetrosTriangulosEquilateros:\n",
        "    def __init__(self, lado):\n",
        "        self.lado = lado\n",
        "\n",
        "    def calcular_area(self):\n",
        "        # Área del triángulo equilátero sin usar math\n",
        "        area = (self.lado ** 2) * (3 ** 0.5) / 4\n",
        "        return area\n",
        "\n",
        "    def calcular_perimetro(self):\n",
        "        # Perímetro del triángulo equilátero sin usar math\n",
        "        perimetro = 3 * self.lado\n",
        "        return perimetro\n",
        "\n",
        "# Ejemplo de uso\n",
        "lado = 3\n",
        "triangulo = TrianguloEquilatero(lado)\n",
        "area = triangulo.calcular_area()\n",
        "perimetro = triangulo.calcular_perimetro()\n",
        "\n",
        "print(\"Triángulo equilátero con lado de\", lado)\n",
        "print(\"Área:\", area)\n",
        "print(\"Perímetro:\", perimetro)"
      ]
    },
    {
      "cell_type": "markdown",
      "source": [
        " Aqui usé los métodos calcular_area() y calcular_perimetro() los cuales calculan el área y el perímetro, respectivamente, de un triángulo equilátero dado el tamaño de un lado."
      ],
      "metadata": {
        "id": "hLnfTtzXp9bO"
      }
    },
    {
      "cell_type": "code",
      "source": [
        "import numpy as np\n",
        "\n",
        "class Matriz:\n",
        "    def __init__(self, elementos):\n",
        "        self.elementos = elementos\n",
        "\n",
        "    def transformar_a_matriz(self):\n",
        "        if len(self.elementos) != 16:\n",
        "            print(\"La lista debe contener exactamente 16 elementos para transformarse en una matriz 4x4.\")\n",
        "            return None\n",
        "        else:\n",
        "            matriz = np.array(self.elementos).reshape(4, 4)\n",
        "            return matriz\n",
        "\n",
        "# Ejemplo de uso\n",
        "elementos = [1, 2, 3, 4, 5, 6, 7, 8, 9, 10, 11, 12, 13, 14, 15, 16]\n",
        "transformador = MatrizTransformadora(elementos)\n",
        "matriz_resultante = transformador.transformar_a_matriz()\n",
        "\n",
        "if matriz_resultante is not None:\n",
        "    print(\"Matriz 4x4 resultante:\")\n",
        "    print(matriz_resultante)"
      ],
      "metadata": {
        "id": "hSy3VjEXqXas"
      },
      "execution_count": null,
      "outputs": []
    },
    {
      "cell_type": "markdown",
      "source": [
        "Aqui usé un método llamado transformar_a_matriz() que toma una lista de 16 elementos y la convierte en una matriz 4x4 utilizando la función reshape de NumPy."
      ],
      "metadata": {
        "id": "1aT-htOMrIE7"
      }
    },
    {
      "cell_type": "code",
      "source": [
        "import numpy as np\n",
        "\n",
        "class Determinante:\n",
        "    def __init__(self, matriz):\n",
        "        self.matriz = matriz\n",
        "\n",
        "    def calcular_determinante(self):\n",
        "        determinante = np.linalg.det(self.matriz)\n",
        "        return determinante\n",
        "\n",
        "# Ejemplo de uso\n",
        "matriz = np.array([[1, 2, 3],\n",
        "                   [4, 5, 6],\n",
        "                   [7, 8, 9]])\n",
        "\n",
        "operaciones = OperacionesMatriciales(matriz)\n",
        "determinante = operaciones.calcular_determinante()\n",
        "\n",
        "print(\"Matriz:\")\n",
        "print(matriz)\n",
        "print(\"Determinante:\", determinante)"
      ],
      "metadata": {
        "id": "vTJ1TototBLV"
      },
      "execution_count": null,
      "outputs": []
    },
    {
      "cell_type": "markdown",
      "source": [
        "Aqui usé el método llamado calcular_determinante(), que calcula el determinante de la matriz que se pasa como argumento al constructor de la clase, este método utiliza la función np.linalg.det() de NumPy para realizar el cálculo del determinante."
      ],
      "metadata": {
        "id": "3HtrQ8h3tDFN"
      }
    }
  ]
}