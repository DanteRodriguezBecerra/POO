{
  "nbformat": 4,
  "nbformat_minor": 0,
  "metadata": {
    "colab": {
      "provenance": []
    },
    "kernelspec": {
      "name": "python3",
      "display_name": "Python 3"
    },
    "language_info": {
      "name": "python"
    }
  },
  "cells": [
    {
      "cell_type": "code",
      "execution_count": 1,
      "metadata": {
        "id": "ppMLm9QNoJ4b"
      },
      "outputs": [],
      "source": [
        "class Dante():\n",
        "\n",
        "  def _init_(self):\n",
        "    print(\"Creamos una clase madre\")\n",
        "\n",
        "  def adivina(self):\n",
        "    print(\"Hola, soy una persona\")\n",
        "\n",
        "  def hablar(self):\n",
        "    print(\"Hablo español\")"
      ]
    },
    {
      "cell_type": "code",
      "source": [
        "dante = Dante()"
      ],
      "metadata": {
        "id": "-wHqmUuQolqV"
      },
      "execution_count": 2,
      "outputs": []
    },
    {
      "cell_type": "code",
      "source": [
        "dante.adivina()"
      ],
      "metadata": {
        "colab": {
          "base_uri": "https://localhost:8080/"
        },
        "id": "COXeCUI6oywO",
        "outputId": "799d2421-d4ab-4169-f253-1d2e03a01089"
      },
      "execution_count": 3,
      "outputs": [
        {
          "output_type": "stream",
          "name": "stdout",
          "text": [
            "Hola, soy una persona\n"
          ]
        }
      ]
    },
    {
      "cell_type": "code",
      "source": [
        "dante.hablar()"
      ],
      "metadata": {
        "colab": {
          "base_uri": "https://localhost:8080/"
        },
        "id": "HIc438btpCbK",
        "outputId": "d9ba463f-ddfe-4547-c77c-be6dc0d48bb9"
      },
      "execution_count": 4,
      "outputs": [
        {
          "output_type": "stream",
          "name": "stdout",
          "text": [
            "Hablo español\n"
          ]
        }
      ]
    },
    {
      "cell_type": "markdown",
      "source": [
        "Crear una herencia"
      ],
      "metadata": {
        "id": "gv33kcunpJ5Z"
      }
    },
    {
      "cell_type": "code",
      "source": [
        "class Persona(Dante):\n",
        "  def __init__(self):\n",
        "    Dante.__init__(self)\n",
        "    print(\"Creamos una clase heredada\")\n",
        "\n",
        "  def nombre(self):\n",
        "    print(\"Dante\")\n",
        "\n",
        "  def adivina(self):\n",
        "    print(\"Mexicano\")\n",
        "\n",
        "  def idioma(self):\n",
        "    print(\"Hola\")"
      ],
      "metadata": {
        "id": "82Ya4oSZpLpp"
      },
      "execution_count": 5,
      "outputs": []
    },
    {
      "cell_type": "code",
      "source": [
        "dante = Dante # Llamamos a la clase heredada"
      ],
      "metadata": {
        "id": "BPQjN5wHpsyR"
      },
      "execution_count": 6,
      "outputs": []
    },
    {
      "cell_type": "code",
      "source": [
        "Persona.adivina()"
      ],
      "metadata": {
        "id": "-g8r9irlqKDO"
      },
      "execution_count": null,
      "outputs": []
    },
    {
      "cell_type": "code",
      "source": [
        "dante.idioma()"
      ],
      "metadata": {
        "id": "86KCtG-jqT-V"
      },
      "execution_count": null,
      "outputs": []
    }
  ]
}