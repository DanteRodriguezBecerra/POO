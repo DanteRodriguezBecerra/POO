{
  "nbformat": 4,
  "nbformat_minor": 0,
  "metadata": {
    "colab": {
      "provenance": []
    },
    "kernelspec": {
      "name": "python3",
      "display_name": "Python 3"
    },
    "language_info": {
      "name": "python"
    }
  },
  "cells": [
    {
      "cell_type": "code",
      "execution_count": 4,
      "metadata": {
        "id": "cs9YAHH6bvcn"
      },
      "outputs": [],
      "source": [
        "class Mascota():\n",
        "\n",
        "  def _init_(self):\n",
        "    print(\"Creamos una clase madre\")\n",
        "\n",
        "  def adivina(self):\n",
        "    print(\"Hola, soy un perro\")\n",
        "\n",
        "  def hablar(self):\n",
        "    print(\"Ladro\")"
      ]
    },
    {
      "cell_type": "code",
      "source": [
        "mascota = Mascota()"
      ],
      "metadata": {
        "id": "Tj0J79ZsdUHi"
      },
      "execution_count": 15,
      "outputs": []
    },
    {
      "cell_type": "markdown",
      "source": [
        "Creamos una clase madre"
      ],
      "metadata": {
        "id": "kxUeq3LWe5Fg"
      }
    },
    {
      "cell_type": "code",
      "source": [
        "mascota.adivina()"
      ],
      "metadata": {
        "colab": {
          "base_uri": "https://localhost:8080/"
        },
        "id": "erWev3u4eDCL",
        "outputId": "b5a47283-7659-4fef-d7ce-c777d0a28939"
      },
      "execution_count": 13,
      "outputs": [
        {
          "output_type": "stream",
          "name": "stdout",
          "text": [
            "Hola, soy un perro\n"
          ]
        }
      ]
    },
    {
      "cell_type": "code",
      "source": [
        "mascota.hablar()"
      ],
      "metadata": {
        "colab": {
          "base_uri": "https://localhost:8080/"
        },
        "id": "AykJhJ1sgfXF",
        "outputId": "21332ac6-65df-4611-aff4-320274bd72a7"
      },
      "execution_count": 12,
      "outputs": [
        {
          "output_type": "stream",
          "name": "stdout",
          "text": [
            "Ladro\n"
          ]
        }
      ]
    },
    {
      "cell_type": "markdown",
      "source": [
        "Crear una herencia"
      ],
      "metadata": {
        "id": "4ma-GI_XgqP_"
      }
    },
    {
      "cell_type": "code",
      "source": [
        "class Perro(Mascota):\n",
        "  def __init__(self):\n",
        "    Mascota.__init__(self)\n",
        "    print(\"Creamos una clase heredada\")\n",
        "\n",
        "  def nombre(self):\n",
        "    print(\"Luna\")\n",
        "\n",
        "  def adivina(self):\n",
        "    print(\"Golden\")\n",
        "\n",
        "  def idioma(self):\n",
        "    print(\"WUAF\")"
      ],
      "metadata": {
        "id": "q36UAEKzgtWP"
      },
      "execution_count": 8,
      "outputs": []
    },
    {
      "cell_type": "code",
      "source": [
        "perro = Perro() # Llamamos a la clase heredada"
      ],
      "metadata": {
        "colab": {
          "base_uri": "https://localhost:8080/"
        },
        "id": "G6lAF0NHiKuo",
        "outputId": "bf53a865-3963-4fd8-df6a-e72a9425917a"
      },
      "execution_count": 11,
      "outputs": [
        {
          "output_type": "stream",
          "name": "stdout",
          "text": [
            "Creamos una clase heredada\n"
          ]
        }
      ]
    },
    {
      "cell_type": "code",
      "source": [
        "mascota.adivina()\n"
      ],
      "metadata": {
        "colab": {
          "base_uri": "https://localhost:8080/"
        },
        "id": "MLb2q8RVk0BP",
        "outputId": "47076d80-01be-486d-e5c1-cfb96186e258"
      },
      "execution_count": 10,
      "outputs": [
        {
          "output_type": "stream",
          "name": "stdout",
          "text": [
            "Hola, soy un perro\n"
          ]
        }
      ]
    },
    {
      "cell_type": "code",
      "source": [
        "perro.adivina()"
      ],
      "metadata": {
        "colab": {
          "base_uri": "https://localhost:8080/"
        },
        "id": "jF9FGd4Bk9dW",
        "outputId": "62c43ebc-c420-4f45-fa40-42e2183ed9b0"
      },
      "execution_count": 16,
      "outputs": [
        {
          "output_type": "stream",
          "name": "stdout",
          "text": [
            "Hola, soy un perro\n"
          ]
        }
      ]
    },
    {
      "cell_type": "code",
      "source": [
        "perro.idioma"
      ],
      "metadata": {
        "colab": {
          "base_uri": "https://localhost:8080/",
          "height": 104
        },
        "id": "4Km29hJGlR48",
        "outputId": "efcfeba9-37b6-493b-ad48-c553de7ba292"
      },
      "execution_count": 18,
      "outputs": [
        {
          "output_type": "execute_result",
          "data": {
            "text/plain": [
              "<bound method Perro.idioma of <__main__.Perro object at 0x792f682b1ae0>>"
            ],
            "text/html": [
              "<div style=\"max-width:800px; border: 1px solid var(--colab-border-color);\"><style>\n",
              "      pre.function-repr-contents {\n",
              "        overflow-x: auto;\n",
              "        padding: 8px 12px;\n",
              "        max-height: 500px;\n",
              "      }\n",
              "\n",
              "      pre.function-repr-contents.function-repr-contents-collapsed {\n",
              "        cursor: pointer;\n",
              "        max-height: 100px;\n",
              "      }\n",
              "    </style>\n",
              "    <pre style=\"white-space: initial; background:\n",
              "         var(--colab-secondary-surface-color); padding: 8px 12px;\n",
              "         border-bottom: 1px solid var(--colab-border-color);\"><b>Perro.idioma</b><br/>def idioma()</pre><pre class=\"function-repr-contents function-repr-contents-collapsed\" style=\"\"><a class=\"filepath\" style=\"display:none\" href=\"#\">/content/&lt;ipython-input-8-111c23f26b32&gt;</a>&lt;no docstring&gt;</pre></div>"
            ]
          },
          "metadata": {},
          "execution_count": 18
        }
      ]
    }
  ]
}